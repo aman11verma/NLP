{
  "nbformat": 4,
  "nbformat_minor": 0,
  "metadata": {
    "colab": {
      "name": "Learning NLP.ipynb",
      "provenance": []
    },
    "kernelspec": {
      "name": "python3",
      "display_name": "Python 3"
    }
  },
  "cells": [
    {
      "cell_type": "code",
      "metadata": {
        "id": "ouYTuYpMRea8",
        "colab_type": "code",
        "colab": {}
      },
      "source": [
        "import tensorflow as tf\n",
        "from tensorflow import keras\n",
        "from tensorflow.keras.preprocessing.text import Tokenizer\n",
        "from tensorflow.keras.preprocessing.sequence import pad_sequences"
      ],
      "execution_count": 0,
      "outputs": []
    },
    {
      "cell_type": "code",
      "metadata": {
        "id": "WFxt6gOpRpHW",
        "colab_type": "code",
        "colab": {}
      },
      "source": [
        "sentences=[\n",
        "           'I love my dog','I love my cat','You have a dog!','Do you think my dog is amazing?' #Case insensitive #Removes punctuations\n",
        "]"
      ],
      "execution_count": 0,
      "outputs": []
    },
    {
      "cell_type": "code",
      "metadata": {
        "id": "0TBo6KbKR0Gb",
        "colab_type": "code",
        "colab": {}
      },
      "source": [
        "tokenizer=Tokenizer(num_words=100,oov_token=\"<OOV>\")\n",
        "tokenizer.fit_on_texts(sentences)\n",
        "word_index=tokenizer.word_index\n",
        "sequences=tokenizer.texts_to_sequences(sentences)"
      ],
      "execution_count": 0,
      "outputs": []
    },
    {
      "cell_type": "code",
      "metadata": {
        "id": "fwySwZk2BQHp",
        "colab_type": "code",
        "colab": {}
      },
      "source": [
        "padded=pad_sequences(sequences,padding='post')"
      ],
      "execution_count": 0,
      "outputs": []
    },
    {
      "cell_type": "code",
      "metadata": {
        "id": "6-Os5UJzSFH_",
        "colab_type": "code",
        "outputId": "aa4d0a20-8c46-4119-ecc1-7eda6f5c5cee",
        "colab": {
          "base_uri": "https://localhost:8080/",
          "height": 119
        }
      },
      "source": [
        "print(word_index)\n",
        "print(sequences)\n",
        "print(padded)"
      ],
      "execution_count": 10,
      "outputs": [
        {
          "output_type": "stream",
          "text": [
            "{'<OOV>': 1, 'my': 2, 'dog': 3, 'i': 4, 'love': 5, 'you': 6, 'cat': 7, 'have': 8, 'a': 9, 'do': 10, 'think': 11, 'is': 12, 'amazing': 13}\n",
            "[[4, 5, 2, 3], [4, 5, 2, 7], [6, 8, 9, 3], [10, 6, 11, 2, 3, 12, 13]]\n",
            "[[ 4  5  2  3  0  0  0]\n",
            " [ 4  5  2  7  0  0  0]\n",
            " [ 6  8  9  3  0  0  0]\n",
            " [10  6 11  2  3 12 13]]\n"
          ],
          "name": "stdout"
        }
      ]
    },
    {
      "cell_type": "code",
      "metadata": {
        "id": "_anIhOJKjJgQ",
        "colab_type": "code",
        "colab": {}
      },
      "source": [
        "test_data=[\n",
        "           'i really love my dog','my dog loves my mantaee'\n",
        "]"
      ],
      "execution_count": 0,
      "outputs": []
    },
    {
      "cell_type": "code",
      "metadata": {
        "id": "BudW10IqmRRi",
        "colab_type": "code",
        "outputId": "73973cd3-0443-46cd-be5c-be547eb92103",
        "colab": {
          "base_uri": "https://localhost:8080/",
          "height": 34
        }
      },
      "source": [
        "test_sequences=tokenizer.texts_to_sequences(test_data)\n",
        "print(test_sequences)"
      ],
      "execution_count": 12,
      "outputs": [
        {
          "output_type": "stream",
          "text": [
            "[[4, 1, 5, 2, 3], [2, 3, 1, 2, 1]]\n"
          ],
          "name": "stdout"
        }
      ]
    },
    {
      "cell_type": "code",
      "metadata": {
        "id": "V1181_2nmY5i",
        "colab_type": "code",
        "colab": {
          "base_uri": "https://localhost:8080/",
          "height": 85
        },
        "outputId": "c4b98c7b-3a0a-43e3-e514-ced69df80e61"
      },
      "source": [
        "padded = pad_sequences(test_sequences, maxlen=10)\n",
        "print(\"\\nPadded Test Sequence: \")\n",
        "print(padded)"
      ],
      "execution_count": 13,
      "outputs": [
        {
          "output_type": "stream",
          "text": [
            "\n",
            "Padded Test Sequence: \n",
            "[[0 0 0 0 0 4 1 5 2 3]\n",
            " [0 0 0 0 0 2 3 1 2 1]]\n"
          ],
          "name": "stdout"
        }
      ]
    },
    {
      "cell_type": "code",
      "metadata": {
        "id": "WQVt-zVICtVz",
        "colab_type": "code",
        "colab": {}
      },
      "source": [
        ""
      ],
      "execution_count": 0,
      "outputs": []
    }
  ]
}